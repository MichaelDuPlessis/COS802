{
 "cells": [
  {
   "cell_type": "code",
   "execution_count": 3,
   "metadata": {},
   "outputs": [
    {
     "name": "stdout",
     "output_type": "stream",
     "text": [
      "Requirement already satisfied: sentence-transformers==3.1.1 in ./.venv/lib/python3.12/site-packages (3.1.1)\n",
      "Requirement already satisfied: transformers<5.0.0,>=4.38.0 in ./.venv/lib/python3.12/site-packages (from sentence-transformers==3.1.1) (4.45.2)\n",
      "Requirement already satisfied: tqdm in ./.venv/lib/python3.12/site-packages (from sentence-transformers==3.1.1) (4.66.6)\n",
      "Requirement already satisfied: torch>=1.11.0 in ./.venv/lib/python3.12/site-packages (from sentence-transformers==3.1.1) (2.5.1)\n",
      "Requirement already satisfied: scikit-learn in ./.venv/lib/python3.12/site-packages (from sentence-transformers==3.1.1) (1.5.2)\n",
      "Requirement already satisfied: scipy in ./.venv/lib/python3.12/site-packages (from sentence-transformers==3.1.1) (1.14.1)\n",
      "Requirement already satisfied: huggingface-hub>=0.19.3 in ./.venv/lib/python3.12/site-packages (from sentence-transformers==3.1.1) (0.26.2)\n",
      "Requirement already satisfied: Pillow in ./.venv/lib/python3.12/site-packages (from sentence-transformers==3.1.1) (11.0.0)\n",
      "Requirement already satisfied: filelock in ./.venv/lib/python3.12/site-packages (from huggingface-hub>=0.19.3->sentence-transformers==3.1.1) (3.16.1)\n",
      "Requirement already satisfied: fsspec>=2023.5.0 in ./.venv/lib/python3.12/site-packages (from huggingface-hub>=0.19.3->sentence-transformers==3.1.1) (2024.9.0)\n",
      "Requirement already satisfied: packaging>=20.9 in ./.venv/lib/python3.12/site-packages (from huggingface-hub>=0.19.3->sentence-transformers==3.1.1) (24.1)\n",
      "Requirement already satisfied: pyyaml>=5.1 in ./.venv/lib/python3.12/site-packages (from huggingface-hub>=0.19.3->sentence-transformers==3.1.1) (6.0.2)\n",
      "Requirement already satisfied: requests in ./.venv/lib/python3.12/site-packages (from huggingface-hub>=0.19.3->sentence-transformers==3.1.1) (2.32.3)\n",
      "Requirement already satisfied: typing-extensions>=3.7.4.3 in ./.venv/lib/python3.12/site-packages (from huggingface-hub>=0.19.3->sentence-transformers==3.1.1) (4.12.2)\n",
      "Requirement already satisfied: networkx in ./.venv/lib/python3.12/site-packages (from torch>=1.11.0->sentence-transformers==3.1.1) (3.4.2)\n",
      "Requirement already satisfied: jinja2 in ./.venv/lib/python3.12/site-packages (from torch>=1.11.0->sentence-transformers==3.1.1) (3.1.4)\n",
      "Requirement already satisfied: setuptools in ./.venv/lib/python3.12/site-packages (from torch>=1.11.0->sentence-transformers==3.1.1) (75.3.0)\n",
      "Requirement already satisfied: sympy==1.13.1 in ./.venv/lib/python3.12/site-packages (from torch>=1.11.0->sentence-transformers==3.1.1) (1.13.1)\n",
      "Requirement already satisfied: mpmath<1.4,>=1.1.0 in ./.venv/lib/python3.12/site-packages (from sympy==1.13.1->torch>=1.11.0->sentence-transformers==3.1.1) (1.3.0)\n",
      "Requirement already satisfied: numpy>=1.17 in ./.venv/lib/python3.12/site-packages (from transformers<5.0.0,>=4.38.0->sentence-transformers==3.1.1) (2.1.3)\n",
      "Requirement already satisfied: regex!=2019.12.17 in ./.venv/lib/python3.12/site-packages (from transformers<5.0.0,>=4.38.0->sentence-transformers==3.1.1) (2024.9.11)\n",
      "Requirement already satisfied: safetensors>=0.4.1 in ./.venv/lib/python3.12/site-packages (from transformers<5.0.0,>=4.38.0->sentence-transformers==3.1.1) (0.4.5)\n",
      "Requirement already satisfied: tokenizers<0.21,>=0.20 in ./.venv/lib/python3.12/site-packages (from transformers<5.0.0,>=4.38.0->sentence-transformers==3.1.1) (0.20.1)\n",
      "Requirement already satisfied: joblib>=1.2.0 in ./.venv/lib/python3.12/site-packages (from scikit-learn->sentence-transformers==3.1.1) (1.4.2)\n",
      "Requirement already satisfied: threadpoolctl>=3.1.0 in ./.venv/lib/python3.12/site-packages (from scikit-learn->sentence-transformers==3.1.1) (3.5.0)\n",
      "Requirement already satisfied: MarkupSafe>=2.0 in ./.venv/lib/python3.12/site-packages (from jinja2->torch>=1.11.0->sentence-transformers==3.1.1) (3.0.2)\n",
      "Requirement already satisfied: charset-normalizer<4,>=2 in ./.venv/lib/python3.12/site-packages (from requests->huggingface-hub>=0.19.3->sentence-transformers==3.1.1) (3.4.0)\n",
      "Requirement already satisfied: idna<4,>=2.5 in ./.venv/lib/python3.12/site-packages (from requests->huggingface-hub>=0.19.3->sentence-transformers==3.1.1) (3.10)\n",
      "Requirement already satisfied: urllib3<3,>=1.21.1 in ./.venv/lib/python3.12/site-packages (from requests->huggingface-hub>=0.19.3->sentence-transformers==3.1.1) (2.2.3)\n",
      "Requirement already satisfied: certifi>=2017.4.17 in ./.venv/lib/python3.12/site-packages (from requests->huggingface-hub>=0.19.3->sentence-transformers==3.1.1) (2024.8.30)\n",
      "Note: you may need to restart the kernel to use updated packages.\n",
      "Requirement already satisfied: datasets in ./.venv/lib/python3.12/site-packages (3.1.0)\n",
      "Requirement already satisfied: filelock in ./.venv/lib/python3.12/site-packages (from datasets) (3.16.1)\n",
      "Requirement already satisfied: numpy>=1.17 in ./.venv/lib/python3.12/site-packages (from datasets) (2.1.3)\n",
      "Requirement already satisfied: pyarrow>=15.0.0 in ./.venv/lib/python3.12/site-packages (from datasets) (18.0.0)\n",
      "Requirement already satisfied: dill<0.3.9,>=0.3.0 in ./.venv/lib/python3.12/site-packages (from datasets) (0.3.8)\n",
      "Requirement already satisfied: pandas in ./.venv/lib/python3.12/site-packages (from datasets) (2.2.3)\n",
      "Requirement already satisfied: requests>=2.32.2 in ./.venv/lib/python3.12/site-packages (from datasets) (2.32.3)\n",
      "Requirement already satisfied: tqdm>=4.66.3 in ./.venv/lib/python3.12/site-packages (from datasets) (4.66.6)\n",
      "Requirement already satisfied: xxhash in ./.venv/lib/python3.12/site-packages (from datasets) (3.5.0)\n",
      "Requirement already satisfied: multiprocess<0.70.17 in ./.venv/lib/python3.12/site-packages (from datasets) (0.70.16)\n",
      "Requirement already satisfied: fsspec<=2024.9.0,>=2023.1.0 in ./.venv/lib/python3.12/site-packages (from fsspec[http]<=2024.9.0,>=2023.1.0->datasets) (2024.9.0)\n",
      "Requirement already satisfied: aiohttp in ./.venv/lib/python3.12/site-packages (from datasets) (3.10.10)\n",
      "Requirement already satisfied: huggingface-hub>=0.23.0 in ./.venv/lib/python3.12/site-packages (from datasets) (0.26.2)\n",
      "Requirement already satisfied: packaging in ./.venv/lib/python3.12/site-packages (from datasets) (24.1)\n",
      "Requirement already satisfied: pyyaml>=5.1 in ./.venv/lib/python3.12/site-packages (from datasets) (6.0.2)\n",
      "Requirement already satisfied: aiohappyeyeballs>=2.3.0 in ./.venv/lib/python3.12/site-packages (from aiohttp->datasets) (2.4.3)\n",
      "Requirement already satisfied: aiosignal>=1.1.2 in ./.venv/lib/python3.12/site-packages (from aiohttp->datasets) (1.3.1)\n",
      "Requirement already satisfied: attrs>=17.3.0 in ./.venv/lib/python3.12/site-packages (from aiohttp->datasets) (24.2.0)\n",
      "Requirement already satisfied: frozenlist>=1.1.1 in ./.venv/lib/python3.12/site-packages (from aiohttp->datasets) (1.5.0)\n",
      "Requirement already satisfied: multidict<7.0,>=4.5 in ./.venv/lib/python3.12/site-packages (from aiohttp->datasets) (6.1.0)\n",
      "Requirement already satisfied: yarl<2.0,>=1.12.0 in ./.venv/lib/python3.12/site-packages (from aiohttp->datasets) (1.17.1)\n",
      "Requirement already satisfied: typing-extensions>=3.7.4.3 in ./.venv/lib/python3.12/site-packages (from huggingface-hub>=0.23.0->datasets) (4.12.2)\n",
      "Requirement already satisfied: charset-normalizer<4,>=2 in ./.venv/lib/python3.12/site-packages (from requests>=2.32.2->datasets) (3.4.0)\n",
      "Requirement already satisfied: idna<4,>=2.5 in ./.venv/lib/python3.12/site-packages (from requests>=2.32.2->datasets) (3.10)\n",
      "Requirement already satisfied: urllib3<3,>=1.21.1 in ./.venv/lib/python3.12/site-packages (from requests>=2.32.2->datasets) (2.2.3)\n",
      "Requirement already satisfied: certifi>=2017.4.17 in ./.venv/lib/python3.12/site-packages (from requests>=2.32.2->datasets) (2024.8.30)\n",
      "Requirement already satisfied: python-dateutil>=2.8.2 in ./.venv/lib/python3.12/site-packages (from pandas->datasets) (2.9.0.post0)\n",
      "Requirement already satisfied: pytz>=2020.1 in ./.venv/lib/python3.12/site-packages (from pandas->datasets) (2024.2)\n",
      "Requirement already satisfied: tzdata>=2022.7 in ./.venv/lib/python3.12/site-packages (from pandas->datasets) (2024.2)\n",
      "Requirement already satisfied: six>=1.5 in ./.venv/lib/python3.12/site-packages (from python-dateutil>=2.8.2->pandas->datasets) (1.16.0)\n",
      "Requirement already satisfied: propcache>=0.2.0 in ./.venv/lib/python3.12/site-packages (from yarl<2.0,>=1.12.0->aiohttp->datasets) (0.2.0)\n",
      "Note: you may need to restart the kernel to use updated packages.\n",
      "Requirement already satisfied: polars in ./.venv/lib/python3.12/site-packages (1.12.0)\n",
      "Note: you may need to restart the kernel to use updated packages.\n",
      "Requirement already satisfied: torch in ./.venv/lib/python3.12/site-packages (2.5.1)\n",
      "Requirement already satisfied: filelock in ./.venv/lib/python3.12/site-packages (from torch) (3.16.1)\n",
      "Requirement already satisfied: typing-extensions>=4.8.0 in ./.venv/lib/python3.12/site-packages (from torch) (4.12.2)\n",
      "Requirement already satisfied: networkx in ./.venv/lib/python3.12/site-packages (from torch) (3.4.2)\n",
      "Requirement already satisfied: jinja2 in ./.venv/lib/python3.12/site-packages (from torch) (3.1.4)\n",
      "Requirement already satisfied: fsspec in ./.venv/lib/python3.12/site-packages (from torch) (2024.9.0)\n",
      "Requirement already satisfied: setuptools in ./.venv/lib/python3.12/site-packages (from torch) (75.3.0)\n",
      "Requirement already satisfied: sympy==1.13.1 in ./.venv/lib/python3.12/site-packages (from torch) (1.13.1)\n",
      "Requirement already satisfied: mpmath<1.4,>=1.1.0 in ./.venv/lib/python3.12/site-packages (from sympy==1.13.1->torch) (1.3.0)\n",
      "Requirement already satisfied: MarkupSafe>=2.0 in ./.venv/lib/python3.12/site-packages (from jinja2->torch) (3.0.2)\n",
      "Note: you may need to restart the kernel to use updated packages.\n",
      "Requirement already satisfied: datasets in ./.venv/lib/python3.12/site-packages (3.1.0)\n",
      "Requirement already satisfied: filelock in ./.venv/lib/python3.12/site-packages (from datasets) (3.16.1)\n",
      "Requirement already satisfied: numpy>=1.17 in ./.venv/lib/python3.12/site-packages (from datasets) (2.1.3)\n",
      "Requirement already satisfied: pyarrow>=15.0.0 in ./.venv/lib/python3.12/site-packages (from datasets) (18.0.0)\n",
      "Requirement already satisfied: dill<0.3.9,>=0.3.0 in ./.venv/lib/python3.12/site-packages (from datasets) (0.3.8)\n",
      "Requirement already satisfied: pandas in ./.venv/lib/python3.12/site-packages (from datasets) (2.2.3)\n",
      "Requirement already satisfied: requests>=2.32.2 in ./.venv/lib/python3.12/site-packages (from datasets) (2.32.3)\n",
      "Requirement already satisfied: tqdm>=4.66.3 in ./.venv/lib/python3.12/site-packages (from datasets) (4.66.6)\n",
      "Requirement already satisfied: xxhash in ./.venv/lib/python3.12/site-packages (from datasets) (3.5.0)\n",
      "Requirement already satisfied: multiprocess<0.70.17 in ./.venv/lib/python3.12/site-packages (from datasets) (0.70.16)\n",
      "Requirement already satisfied: fsspec<=2024.9.0,>=2023.1.0 in ./.venv/lib/python3.12/site-packages (from fsspec[http]<=2024.9.0,>=2023.1.0->datasets) (2024.9.0)\n",
      "Requirement already satisfied: aiohttp in ./.venv/lib/python3.12/site-packages (from datasets) (3.10.10)\n",
      "Requirement already satisfied: huggingface-hub>=0.23.0 in ./.venv/lib/python3.12/site-packages (from datasets) (0.26.2)\n",
      "Requirement already satisfied: packaging in ./.venv/lib/python3.12/site-packages (from datasets) (24.1)\n",
      "Requirement already satisfied: pyyaml>=5.1 in ./.venv/lib/python3.12/site-packages (from datasets) (6.0.2)\n",
      "Requirement already satisfied: aiohappyeyeballs>=2.3.0 in ./.venv/lib/python3.12/site-packages (from aiohttp->datasets) (2.4.3)\n",
      "Requirement already satisfied: aiosignal>=1.1.2 in ./.venv/lib/python3.12/site-packages (from aiohttp->datasets) (1.3.1)\n",
      "Requirement already satisfied: attrs>=17.3.0 in ./.venv/lib/python3.12/site-packages (from aiohttp->datasets) (24.2.0)\n",
      "Requirement already satisfied: frozenlist>=1.1.1 in ./.venv/lib/python3.12/site-packages (from aiohttp->datasets) (1.5.0)\n",
      "Requirement already satisfied: multidict<7.0,>=4.5 in ./.venv/lib/python3.12/site-packages (from aiohttp->datasets) (6.1.0)\n",
      "Requirement already satisfied: yarl<2.0,>=1.12.0 in ./.venv/lib/python3.12/site-packages (from aiohttp->datasets) (1.17.1)\n",
      "Requirement already satisfied: typing-extensions>=3.7.4.3 in ./.venv/lib/python3.12/site-packages (from huggingface-hub>=0.23.0->datasets) (4.12.2)\n",
      "Requirement already satisfied: charset-normalizer<4,>=2 in ./.venv/lib/python3.12/site-packages (from requests>=2.32.2->datasets) (3.4.0)\n",
      "Requirement already satisfied: idna<4,>=2.5 in ./.venv/lib/python3.12/site-packages (from requests>=2.32.2->datasets) (3.10)\n",
      "Requirement already satisfied: urllib3<3,>=1.21.1 in ./.venv/lib/python3.12/site-packages (from requests>=2.32.2->datasets) (2.2.3)\n",
      "Requirement already satisfied: certifi>=2017.4.17 in ./.venv/lib/python3.12/site-packages (from requests>=2.32.2->datasets) (2024.8.30)\n",
      "Requirement already satisfied: python-dateutil>=2.8.2 in ./.venv/lib/python3.12/site-packages (from pandas->datasets) (2.9.0.post0)\n",
      "Requirement already satisfied: pytz>=2020.1 in ./.venv/lib/python3.12/site-packages (from pandas->datasets) (2024.2)\n",
      "Requirement already satisfied: tzdata>=2022.7 in ./.venv/lib/python3.12/site-packages (from pandas->datasets) (2024.2)\n",
      "Requirement already satisfied: six>=1.5 in ./.venv/lib/python3.12/site-packages (from python-dateutil>=2.8.2->pandas->datasets) (1.16.0)\n",
      "Requirement already satisfied: propcache>=0.2.0 in ./.venv/lib/python3.12/site-packages (from yarl<2.0,>=1.12.0->aiohttp->datasets) (0.2.0)\n",
      "Note: you may need to restart the kernel to use updated packages.\n",
      "Requirement already satisfied: transformers==4.45.2 in ./.venv/lib/python3.12/site-packages (4.45.2)\n",
      "Requirement already satisfied: filelock in ./.venv/lib/python3.12/site-packages (from transformers==4.45.2) (3.16.1)\n",
      "Requirement already satisfied: huggingface-hub<1.0,>=0.23.2 in ./.venv/lib/python3.12/site-packages (from transformers==4.45.2) (0.26.2)\n",
      "Requirement already satisfied: numpy>=1.17 in ./.venv/lib/python3.12/site-packages (from transformers==4.45.2) (2.1.3)\n",
      "Requirement already satisfied: packaging>=20.0 in ./.venv/lib/python3.12/site-packages (from transformers==4.45.2) (24.1)\n",
      "Requirement already satisfied: pyyaml>=5.1 in ./.venv/lib/python3.12/site-packages (from transformers==4.45.2) (6.0.2)\n",
      "Requirement already satisfied: regex!=2019.12.17 in ./.venv/lib/python3.12/site-packages (from transformers==4.45.2) (2024.9.11)\n",
      "Requirement already satisfied: requests in ./.venv/lib/python3.12/site-packages (from transformers==4.45.2) (2.32.3)\n",
      "Requirement already satisfied: safetensors>=0.4.1 in ./.venv/lib/python3.12/site-packages (from transformers==4.45.2) (0.4.5)\n",
      "Requirement already satisfied: tokenizers<0.21,>=0.20 in ./.venv/lib/python3.12/site-packages (from transformers==4.45.2) (0.20.1)\n",
      "Requirement already satisfied: tqdm>=4.27 in ./.venv/lib/python3.12/site-packages (from transformers==4.45.2) (4.66.6)\n",
      "Requirement already satisfied: fsspec>=2023.5.0 in ./.venv/lib/python3.12/site-packages (from huggingface-hub<1.0,>=0.23.2->transformers==4.45.2) (2024.9.0)\n",
      "Requirement already satisfied: typing-extensions>=3.7.4.3 in ./.venv/lib/python3.12/site-packages (from huggingface-hub<1.0,>=0.23.2->transformers==4.45.2) (4.12.2)\n",
      "Requirement already satisfied: charset-normalizer<4,>=2 in ./.venv/lib/python3.12/site-packages (from requests->transformers==4.45.2) (3.4.0)\n",
      "Requirement already satisfied: idna<4,>=2.5 in ./.venv/lib/python3.12/site-packages (from requests->transformers==4.45.2) (3.10)\n",
      "Requirement already satisfied: urllib3<3,>=1.21.1 in ./.venv/lib/python3.12/site-packages (from requests->transformers==4.45.2) (2.2.3)\n",
      "Requirement already satisfied: certifi>=2017.4.17 in ./.venv/lib/python3.12/site-packages (from requests->transformers==4.45.2) (2024.8.30)\n",
      "Note: you may need to restart the kernel to use updated packages.\n",
      "Requirement already satisfied: matplotlib in ./.venv/lib/python3.12/site-packages (3.9.2)\n",
      "Requirement already satisfied: contourpy>=1.0.1 in ./.venv/lib/python3.12/site-packages (from matplotlib) (1.3.0)\n",
      "Requirement already satisfied: cycler>=0.10 in ./.venv/lib/python3.12/site-packages (from matplotlib) (0.12.1)\n",
      "Requirement already satisfied: fonttools>=4.22.0 in ./.venv/lib/python3.12/site-packages (from matplotlib) (4.54.1)\n",
      "Requirement already satisfied: kiwisolver>=1.3.1 in ./.venv/lib/python3.12/site-packages (from matplotlib) (1.4.7)\n",
      "Requirement already satisfied: numpy>=1.23 in ./.venv/lib/python3.12/site-packages (from matplotlib) (2.1.3)\n",
      "Requirement already satisfied: packaging>=20.0 in ./.venv/lib/python3.12/site-packages (from matplotlib) (24.1)\n",
      "Requirement already satisfied: pillow>=8 in ./.venv/lib/python3.12/site-packages (from matplotlib) (11.0.0)\n",
      "Requirement already satisfied: pyparsing>=2.3.1 in ./.venv/lib/python3.12/site-packages (from matplotlib) (3.2.0)\n",
      "Requirement already satisfied: python-dateutil>=2.7 in ./.venv/lib/python3.12/site-packages (from matplotlib) (2.9.0.post0)\n",
      "Requirement already satisfied: six>=1.5 in ./.venv/lib/python3.12/site-packages (from python-dateutil>=2.7->matplotlib) (1.16.0)\n",
      "Note: you may need to restart the kernel to use updated packages.\n",
      "Requirement already satisfied: accelerate in ./.venv/lib/python3.12/site-packages (1.1.0)\n",
      "Requirement already satisfied: numpy<3.0.0,>=1.17 in ./.venv/lib/python3.12/site-packages (from accelerate) (2.1.3)\n",
      "Requirement already satisfied: packaging>=20.0 in ./.venv/lib/python3.12/site-packages (from accelerate) (24.1)\n",
      "Requirement already satisfied: psutil in ./.venv/lib/python3.12/site-packages (from accelerate) (6.1.0)\n",
      "Requirement already satisfied: pyyaml in ./.venv/lib/python3.12/site-packages (from accelerate) (6.0.2)\n",
      "Requirement already satisfied: torch>=1.10.0 in ./.venv/lib/python3.12/site-packages (from accelerate) (2.5.1)\n",
      "Requirement already satisfied: huggingface-hub>=0.21.0 in ./.venv/lib/python3.12/site-packages (from accelerate) (0.26.2)\n",
      "Requirement already satisfied: safetensors>=0.4.3 in ./.venv/lib/python3.12/site-packages (from accelerate) (0.4.5)\n",
      "Requirement already satisfied: filelock in ./.venv/lib/python3.12/site-packages (from huggingface-hub>=0.21.0->accelerate) (3.16.1)\n",
      "Requirement already satisfied: fsspec>=2023.5.0 in ./.venv/lib/python3.12/site-packages (from huggingface-hub>=0.21.0->accelerate) (2024.9.0)\n",
      "Requirement already satisfied: requests in ./.venv/lib/python3.12/site-packages (from huggingface-hub>=0.21.0->accelerate) (2.32.3)\n",
      "Requirement already satisfied: tqdm>=4.42.1 in ./.venv/lib/python3.12/site-packages (from huggingface-hub>=0.21.0->accelerate) (4.66.6)\n",
      "Requirement already satisfied: typing-extensions>=3.7.4.3 in ./.venv/lib/python3.12/site-packages (from huggingface-hub>=0.21.0->accelerate) (4.12.2)\n",
      "Requirement already satisfied: networkx in ./.venv/lib/python3.12/site-packages (from torch>=1.10.0->accelerate) (3.4.2)\n",
      "Requirement already satisfied: jinja2 in ./.venv/lib/python3.12/site-packages (from torch>=1.10.0->accelerate) (3.1.4)\n",
      "Requirement already satisfied: setuptools in ./.venv/lib/python3.12/site-packages (from torch>=1.10.0->accelerate) (75.3.0)\n",
      "Requirement already satisfied: sympy==1.13.1 in ./.venv/lib/python3.12/site-packages (from torch>=1.10.0->accelerate) (1.13.1)\n",
      "Requirement already satisfied: mpmath<1.4,>=1.1.0 in ./.venv/lib/python3.12/site-packages (from sympy==1.13.1->torch>=1.10.0->accelerate) (1.3.0)\n",
      "Requirement already satisfied: MarkupSafe>=2.0 in ./.venv/lib/python3.12/site-packages (from jinja2->torch>=1.10.0->accelerate) (3.0.2)\n",
      "Requirement already satisfied: charset-normalizer<4,>=2 in ./.venv/lib/python3.12/site-packages (from requests->huggingface-hub>=0.21.0->accelerate) (3.4.0)\n",
      "Requirement already satisfied: idna<4,>=2.5 in ./.venv/lib/python3.12/site-packages (from requests->huggingface-hub>=0.21.0->accelerate) (3.10)\n",
      "Requirement already satisfied: urllib3<3,>=1.21.1 in ./.venv/lib/python3.12/site-packages (from requests->huggingface-hub>=0.21.0->accelerate) (2.2.3)\n",
      "Requirement already satisfied: certifi>=2017.4.17 in ./.venv/lib/python3.12/site-packages (from requests->huggingface-hub>=0.21.0->accelerate) (2024.8.30)\n",
      "Note: you may need to restart the kernel to use updated packages.\n"
     ]
    }
   ],
   "source": [
    "%pip install sentence-transformers==3.1.1\n",
    "%pip install datasets\n",
    "%pip install polars\n",
    "%pip install torch\n",
    "%pip install datasets\n",
    "%pip install transformers==4.45.2\n",
    "%pip install matplotlib\n",
    "%pip install accelerate"
   ]
  },
  {
   "cell_type": "markdown",
   "metadata": {},
   "source": [
    "# Importing Libraries"
   ]
  },
  {
   "cell_type": "code",
   "execution_count": null,
   "metadata": {},
   "outputs": [
    {
     "name": "stderr",
     "output_type": "stream",
     "text": [
      "/Users/michael/Documents/School/Year5/COS802/Project/.venv/lib/python3.12/site-packages/sentence_transformers/cross_encoder/CrossEncoder.py:13: TqdmWarning: IProgress not found. Please update jupyter and ipywidgets. See https://ipywidgets.readthedocs.io/en/stable/user_install.html\n",
      "  from tqdm.autonotebook import tqdm, trange\n"
     ]
    }
   ],
   "source": [
    "import polars as pl\n",
    "from sentence_transformers import SentenceTransformer, losses, SentenceTransformerTrainer, SentenceTransformerTrainingArguments, InputExample\n",
    "from transformers import TrainerCallback\n",
    "import matplotlib.pyplot as plt\n",
    "from datasets import Dataset\n",
    "from sentence_transformers.evaluation import EmbeddingSimilarityEvaluator, SimilarityFunction\n",
    "\n",
    "import os\n",
    "os.environ[\"WANDB_DISABLED\"] = \"true\""
   ]
  },
  {
   "cell_type": "markdown",
   "metadata": {},
   "source": [
    "# Data Processing "
   ]
  },
  {
   "cell_type": "code",
   "execution_count": 2,
   "metadata": {},
   "outputs": [],
   "source": [
    "def remove_punctuation(df, col):\n",
    "    return df.with_columns(\n",
    "        pl.col(col).str.replace_all(r\"[^\\w\\s]\", \"\")\n",
    "    )"
   ]
  },
  {
   "cell_type": "code",
   "execution_count": 3,
   "metadata": {},
   "outputs": [],
   "source": [
    "def lowercase(df, col):\n",
    "    return df.with_columns(\n",
    "        pl.col(col).str.to_lowercase()\n",
    "    )"
   ]
  },
  {
   "cell_type": "markdown",
   "metadata": {},
   "source": [
    "# Reading the Data"
   ]
  },
  {
   "cell_type": "code",
   "execution_count": 4,
   "metadata": {},
   "outputs": [],
   "source": [
    "def dataset(lang, test=False):\n",
    "    if test:\n",
    "        return pl.read_parquet(f\"hf://datasets/SemRel/SemRel2024/{lang}/test-*\")\n",
    "    else:\n",
    "        try:\n",
    "            return pl.read_parquet(f\"hf://datasets/SemRel/SemRel2024/{lang}/train-*\")\n",
    "        except:\n",
    "            return pl.read_parquet(f\"hf://datasets/SemRel/SemRel2024/{lang}/dev-*\")"
   ]
  },
  {
   "cell_type": "code",
   "execution_count": 5,
   "metadata": {},
   "outputs": [],
   "source": [
    "languages = [\n",
    "    \"afr\",\n",
    "    \"arq\",\n",
    "    \"amh\",\n",
    "    \"eng\",\n",
    "    \"hau\",\n",
    "    \"ind\",\n",
    "    \"hin\",\n",
    "    \"kin\",\n",
    "    \"mar\",\n",
    "    \"arb\",\n",
    "    \"ary\",\n",
    "    \"pan\",\n",
    "    \"esp\",\n",
    "    \"tel\",\n",
    "]\n",
    "\n",
    "def read_datasets(test=False):\n",
    "    datasets_train = {}\n",
    "    for lang in languages:\n",
    "        # Load language-specific dataset\n",
    "        print(\"Loading langauge:\", lang)\n",
    "        \n",
    "        df = dataset(lang, test=test)\n",
    "        df = remove_punctuation(df, 'sentence1')\n",
    "        df = remove_punctuation(df, 'sentence2')\n",
    "        df = lowercase(df, 'sentence1')\n",
    "        df = lowercase(df, 'sentence2')\n",
    "\n",
    "        datasets_train[lang] = df\n",
    "\n",
    "    return datasets_train\n",
    "\n",
    "def read_dataset():\n",
    "    df = dataset('*')\n",
    "    df = remove_punctuation(df, 'sentence1')\n",
    "    df = remove_punctuation(df, 'sentence2')\n",
    "    df = lowercase(df, 'sentence1')\n",
    "    df = lowercase(df, 'sentence2')\n",
    "\n",
    "    return df"
   ]
  },
  {
   "cell_type": "markdown",
   "metadata": {},
   "source": [
    "# Using SBERT"
   ]
  },
  {
   "cell_type": "code",
   "execution_count": 6,
   "metadata": {},
   "outputs": [],
   "source": [
    "def get_model():\n",
    "    # Load the multilingual SBERT model\n",
    "    model = SentenceTransformer('paraphrase-multilingual-MiniLM-L12-v2')\n",
    "    print(model.device)\n",
    "\n",
    "    return model\n",
    "\n",
    "def train_model(model, train_data, batch_size=32, num_epochs=5):\n",
    "    training = []\n",
    "    for row in train_data.iter_rows(named=True):\n",
    "        training.append(InputExample(\n",
    "            texts=[row['sentence1'], row['sentence2']],\n",
    "            label=row['label']\n",
    "        ))\n",
    "\n",
    "    # Loss function\n",
    "    train_loss = losses.CosineSimilarityLoss(model=model)\n",
    "\n",
    "    # dataset\n",
    "    dataset = Dataset.from_pandas(train_data.to_pandas())\n",
    "\n",
    "    args = SentenceTransformerTrainingArguments(\n",
    "        # Required parameter:\n",
    "        output_dir=\"checkpoints\",\n",
    "        logging_dir=\"logs\",\n",
    "        logging_steps=10,\n",
    "        # Optional training parameters:\n",
    "        num_train_epochs=num_epochs,\n",
    "        per_device_train_batch_size=batch_size,\n",
    "        fp16=False,  # Set to False if you get an error that your GPU can't run on FP16\n",
    "        save_strategy=\"steps\",\n",
    "        save_steps=100,\n",
    "        save_total_limit=2,\n",
    "    )\n",
    "\n",
    "    class LossLogger(TrainerCallback):\n",
    "        def __init__(self):\n",
    "            super().__init__()\n",
    "            self.loss_values = []\n",
    "\n",
    "        def on_log(self, args, state, control, logs=None, **kwargs):\n",
    "            if logs is not None:\n",
    "                self.loss_values.append(logs.get('loss'))\n",
    "                print(f\"Step {state.global_step} - Loss: {logs.get('loss', 'N/A')}\")\n",
    "\n",
    "    logger = LossLogger()\n",
    "\n",
    "    trainer = SentenceTransformerTrainer(\n",
    "        model=model,\n",
    "        args=args,\n",
    "        train_dataset=dataset,\n",
    "        loss=train_loss,\n",
    "        callbacks=[logger]\n",
    "    )\n",
    "    trainer.train()\n",
    "\n",
    "    return logger.loss_values"
   ]
  },
  {
   "cell_type": "code",
   "execution_count": 7,
   "metadata": {},
   "outputs": [
    {
     "name": "stdout",
     "output_type": "stream",
     "text": [
      "Loading langauge: afr\n",
      "Loading langauge: arq\n",
      "Loading langauge: amh\n",
      "Loading langauge: eng\n",
      "Loading langauge: hau\n",
      "Loading langauge: ind\n",
      "Loading langauge: hin\n",
      "Loading langauge: kin\n",
      "Loading langauge: mar\n",
      "Loading langauge: arb\n",
      "Loading langauge: ary\n",
      "Loading langauge: pan\n",
      "Loading langauge: esp\n",
      "Loading langauge: tel\n",
      "Loading langauge: afr\n",
      "Loading langauge: arq\n",
      "Loading langauge: amh\n",
      "Loading langauge: eng\n",
      "Loading langauge: hau\n",
      "Loading langauge: ind\n",
      "Loading langauge: hin\n",
      "Loading langauge: kin\n",
      "Loading langauge: mar\n",
      "Loading langauge: arb\n",
      "Loading langauge: ary\n",
      "Loading langauge: pan\n",
      "Loading langauge: esp\n",
      "Loading langauge: tel\n"
     ]
    }
   ],
   "source": [
    "train_datasets = read_datasets()\n",
    "test_datasets = read_datasets(test=True)"
   ]
  },
  {
   "cell_type": "code",
   "execution_count": 14,
   "metadata": {},
   "outputs": [],
   "source": [
    "def prepare_test_data(test_data):\n",
    "    # Extract columns from the Polars DataFrame\n",
    "    sentences1 = test_data['sentence1'].to_list()\n",
    "    sentences2 = test_data['sentence2'].to_list()\n",
    "    labels = test_data['label'].to_list()\n",
    "    \n",
    "    return sentences1, sentences2, labels\n",
    "\n",
    "def evaluate(model):\n",
    "    results = {}\n",
    "    for lang in test_datasets:\n",
    "        print(\"Testing lang:\", lang)\n",
    "\n",
    "        sentences1, sentences2, labels = prepare_test_data(test_datasets[lang])\n",
    "\n",
    "        # Create an evaluator\n",
    "        evaluator = EmbeddingSimilarityEvaluator(sentences1, sentences2, labels)\n",
    "\n",
    "        # Evaluate the model\n",
    "        scores = evaluator(model)\n",
    "\n",
    "        # Print the evaluation metrics\n",
    "        print(scores)\n",
    "\n",
    "        results[lang] = scores\n",
    "        \n",
    "    return results"
   ]
  },
  {
   "cell_type": "code",
   "execution_count": null,
   "metadata": {},
   "outputs": [
    {
     "name": "stdout",
     "output_type": "stream",
     "text": [
      "mps:0\n",
      "Training lang: afr\n"
     ]
    },
    {
     "name": "stderr",
     "output_type": "stream",
     "text": [
      " 17%|█▋        | 10/60 [00:04<00:21,  2.38it/s]"
     ]
    },
    {
     "name": "stdout",
     "output_type": "stream",
     "text": [
      "Step 10 - Loss: 0.0269\n",
      "{'loss': 0.0269, 'grad_norm': 0.757507860660553, 'learning_rate': 4.166666666666667e-05, 'epoch': 0.83}\n"
     ]
    },
    {
     "name": "stderr",
     "output_type": "stream",
     "text": [
      " 33%|███▎      | 20/60 [00:09<00:17,  2.27it/s]"
     ]
    },
    {
     "name": "stdout",
     "output_type": "stream",
     "text": [
      "Step 20 - Loss: 0.0186\n",
      "{'loss': 0.0186, 'grad_norm': 0.32401755452156067, 'learning_rate': 3.3333333333333335e-05, 'epoch': 1.67}\n"
     ]
    },
    {
     "name": "stderr",
     "output_type": "stream",
     "text": [
      " 50%|█████     | 30/60 [00:13<00:12,  2.31it/s]"
     ]
    },
    {
     "name": "stdout",
     "output_type": "stream",
     "text": [
      "Step 30 - Loss: 0.0082\n",
      "{'loss': 0.0082, 'grad_norm': 0.3484363555908203, 'learning_rate': 2.5e-05, 'epoch': 2.5}\n"
     ]
    },
    {
     "name": "stderr",
     "output_type": "stream",
     "text": [
      " 67%|██████▋   | 40/60 [00:18<00:08,  2.26it/s]"
     ]
    },
    {
     "name": "stdout",
     "output_type": "stream",
     "text": [
      "Step 40 - Loss: 0.0061\n",
      "{'loss': 0.0061, 'grad_norm': 0.2984454333782196, 'learning_rate': 1.6666666666666667e-05, 'epoch': 3.33}\n"
     ]
    },
    {
     "name": "stderr",
     "output_type": "stream",
     "text": [
      " 83%|████████▎ | 50/60 [00:22<00:04,  2.25it/s]"
     ]
    },
    {
     "name": "stdout",
     "output_type": "stream",
     "text": [
      "Step 50 - Loss: 0.0047\n",
      "{'loss': 0.0047, 'grad_norm': 0.23639771342277527, 'learning_rate': 8.333333333333334e-06, 'epoch': 4.17}\n"
     ]
    },
    {
     "name": "stderr",
     "output_type": "stream",
     "text": [
      "100%|██████████| 60/60 [00:27<00:00,  2.24it/s]"
     ]
    },
    {
     "name": "stdout",
     "output_type": "stream",
     "text": [
      "Step 60 - Loss: 0.0046\n",
      "{'loss': 0.0046, 'grad_norm': 0.3911512792110443, 'learning_rate': 0.0, 'epoch': 5.0}\n"
     ]
    },
    {
     "name": "stderr",
     "output_type": "stream",
     "text": [
      "100%|██████████| 60/60 [00:29<00:00,  2.06it/s]"
     ]
    },
    {
     "name": "stdout",
     "output_type": "stream",
     "text": [
      "Step 60 - Loss: N/A\n",
      "{'train_runtime': 29.0763, 'train_samples_per_second': 64.485, 'train_steps_per_second': 2.064, 'train_loss': 0.011523957115908463, 'epoch': 5.0}\n",
      "Testing lang: afr\n"
     ]
    },
    {
     "name": "stderr",
     "output_type": "stream",
     "text": [
      "\n"
     ]
    },
    {
     "name": "stdout",
     "output_type": "stream",
     "text": [
      "{'pearson_cosine': np.float64(0.7868652004012613), 'spearman_cosine': np.float64(0.7665480668308411), 'pearson_manhattan': np.float64(0.7270303139104044), 'spearman_manhattan': np.float64(0.7302457660956317), 'pearson_euclidean': np.float64(0.7290486888153145), 'spearman_euclidean': np.float64(0.7322007304964278), 'pearson_dot': np.float64(0.7057491205775741), 'spearman_dot': np.float64(0.7267207490243766), 'pearson_max': np.float64(0.7868652004012613), 'spearman_max': np.float64(0.7665480668308411)}\n",
      "Testing lang: arq\n",
      "{'pearson_cosine': np.float64(0.3223381544647036), 'spearman_cosine': np.float64(0.30014309324638916), 'pearson_manhattan': np.float64(0.24536732832067465), 'spearman_manhattan': np.float64(0.2545254510603962), 'pearson_euclidean': np.float64(0.2400548119614196), 'spearman_euclidean': np.float64(0.25230850837501884), 'pearson_dot': np.float64(0.31411952702687823), 'spearman_dot': np.float64(0.24858982155885004), 'pearson_max': np.float64(0.3223381544647036), 'spearman_max': np.float64(0.30014309324638916)}\n",
      "Testing lang: amh\n",
      "{'pearson_cosine': np.float64(0.5862213946755063), 'spearman_cosine': np.float64(0.6030105445642026), 'pearson_manhattan': np.float64(0.5899740795618461), 'spearman_manhattan': np.float64(0.5809346324121027), 'pearson_euclidean': np.float64(0.5917400308264993), 'spearman_euclidean': np.float64(0.584760195569557), 'pearson_dot': np.float64(0.3671860095440854), 'spearman_dot': np.float64(0.41484373269215313), 'pearson_max': np.float64(0.5917400308264993), 'spearman_max': np.float64(0.6030105445642026)}\n",
      "Testing lang: eng\n",
      "{'pearson_cosine': np.float64(0.8267224989096121), 'spearman_cosine': np.float64(0.8174176119959763), 'pearson_manhattan': np.float64(0.808278074995683), 'spearman_manhattan': np.float64(0.8049598562783232), 'pearson_euclidean': np.float64(0.8098034209133541), 'spearman_euclidean': np.float64(0.8063344792265528), 'pearson_dot': np.float64(0.7763636568214197), 'spearman_dot': np.float64(0.783605284521986), 'pearson_max': np.float64(0.8267224989096121), 'spearman_max': np.float64(0.8174176119959763)}\n",
      "Testing lang: hau\n",
      "{'pearson_cosine': np.float64(0.23661357007552114), 'spearman_cosine': np.float64(0.23289931467843958), 'pearson_manhattan': np.float64(0.2426093412412225), 'spearman_manhattan': np.float64(0.2286384172376639), 'pearson_euclidean': np.float64(0.24312031991941147), 'spearman_euclidean': np.float64(0.23027459330534075), 'pearson_dot': np.float64(0.18111588781828608), 'spearman_dot': np.float64(0.14828124573435286), 'pearson_max': np.float64(0.24312031991941147), 'spearman_max': np.float64(0.23289931467843958)}\n",
      "Testing lang: ind\n",
      "{'pearson_cosine': np.float64(0.40693942280378287), 'spearman_cosine': np.float64(0.4170552673154732), 'pearson_manhattan': np.float64(0.43906475073250256), 'spearman_manhattan': np.float64(0.4075689439633511), 'pearson_euclidean': np.float64(0.4374165163484702), 'spearman_euclidean': np.float64(0.4098048439005513), 'pearson_dot': np.float64(0.2717899764342526), 'spearman_dot': np.float64(0.2868937705938954), 'pearson_max': np.float64(0.43906475073250256), 'spearman_max': np.float64(0.4170552673154732)}\n",
      "Testing lang: hin\n",
      "{'pearson_cosine': np.float64(0.757715862809625), 'spearman_cosine': np.float64(0.7518233958737182), 'pearson_manhattan': np.float64(0.6920731383962601), 'spearman_manhattan': np.float64(0.6807151078516832), 'pearson_euclidean': np.float64(0.6928936136972245), 'spearman_euclidean': np.float64(0.6819484219306652), 'pearson_dot': np.float64(0.7189559439818399), 'spearman_dot': np.float64(0.7363274001691028), 'pearson_max': np.float64(0.757715862809625), 'spearman_max': np.float64(0.7518233958737182)}\n",
      "Testing lang: kin\n",
      "{'pearson_cosine': np.float64(0.38909698139584925), 'spearman_cosine': np.float64(0.32921056327923454), 'pearson_manhattan': np.float64(0.3790964698093999), 'spearman_manhattan': np.float64(0.31769290775233844), 'pearson_euclidean': np.float64(0.3784259009024765), 'spearman_euclidean': np.float64(0.3185133630347852), 'pearson_dot': np.float64(0.22672371068457148), 'spearman_dot': np.float64(0.21829982667947617), 'pearson_max': np.float64(0.38909698139584925), 'spearman_max': np.float64(0.32921056327923454)}\n",
      "Testing lang: mar\n",
      "{'pearson_cosine': np.float64(0.7878171246887706), 'spearman_cosine': np.float64(0.7612947119688814), 'pearson_manhattan': np.float64(0.7007412490416542), 'spearman_manhattan': np.float64(0.6789572046031934), 'pearson_euclidean': np.float64(0.7034206281872838), 'spearman_euclidean': np.float64(0.6818075348992478), 'pearson_dot': np.float64(0.7083188000419733), 'spearman_dot': np.float64(0.7309326951724034), 'pearson_max': np.float64(0.7878171246887706), 'spearman_max': np.float64(0.7612947119688814)}\n",
      "Testing lang: arb\n",
      "{'pearson_cosine': np.float64(0.607640749080804), 'spearman_cosine': np.float64(0.6085807043631091), 'pearson_manhattan': np.float64(0.4957469930095472), 'spearman_manhattan': np.float64(0.49811759178446213), 'pearson_euclidean': np.float64(0.4957735222833516), 'spearman_euclidean': np.float64(0.49927823095189255), 'pearson_dot': np.float64(0.5796992432159365), 'spearman_dot': np.float64(0.599181786667622), 'pearson_max': np.float64(0.607640749080804), 'spearman_max': np.float64(0.6085807043631091)}\n",
      "Testing lang: ary\n",
      "{'pearson_cosine': np.float64(0.381525490513077), 'spearman_cosine': np.float64(0.38838572472218413), 'pearson_manhattan': np.float64(0.318960240870548), 'spearman_manhattan': np.float64(0.31210813411772154), 'pearson_euclidean': np.float64(0.318730513493643), 'spearman_euclidean': np.float64(0.3128317336214066), 'pearson_dot': np.float64(0.30250483243237114), 'spearman_dot': np.float64(0.36338361091281063), 'pearson_max': np.float64(0.381525490513077), 'spearman_max': np.float64(0.38838572472218413)}\n",
      "Testing lang: pan\n",
      "{'pearson_cosine': np.float64(-0.04677307274841574), 'spearman_cosine': np.float64(-0.07667886660803193), 'pearson_manhattan': np.float64(-0.13010298270578707), 'spearman_manhattan': np.float64(-0.1077714974157729), 'pearson_euclidean': np.float64(-0.131480644046371), 'spearman_euclidean': np.float64(-0.10872506216139412), 'pearson_dot': np.float64(0.05360450158591977), 'spearman_dot': np.float64(0.042437169404203175), 'pearson_max': np.float64(0.05360450158591977), 'spearman_max': np.float64(0.042437169404203175)}\n",
      "Testing lang: esp\n"
     ]
    },
    {
     "name": "stderr",
     "output_type": "stream",
     "text": [
      "/Users/michael/Documents/School/Year5/COS802/Project/.venv/lib/python3.12/site-packages/sentence_transformers/evaluation/EmbeddingSimilarityEvaluator.py:192: ConstantInputWarning: An input array is constant; the correlation coefficient is not defined.\n",
      "  eval_pearson_cosine, _ = pearsonr(labels, cosine_scores)\n",
      "/Users/michael/Documents/School/Year5/COS802/Project/.venv/lib/python3.12/site-packages/sentence_transformers/evaluation/EmbeddingSimilarityEvaluator.py:193: ConstantInputWarning: An input array is constant; the correlation coefficient is not defined.\n",
      "  eval_spearman_cosine, _ = spearmanr(labels, cosine_scores)\n",
      "/Users/michael/Documents/School/Year5/COS802/Project/.venv/lib/python3.12/site-packages/sentence_transformers/evaluation/EmbeddingSimilarityEvaluator.py:195: ConstantInputWarning: An input array is constant; the correlation coefficient is not defined.\n",
      "  eval_pearson_manhattan, _ = pearsonr(labels, manhattan_distances)\n",
      "/Users/michael/Documents/School/Year5/COS802/Project/.venv/lib/python3.12/site-packages/sentence_transformers/evaluation/EmbeddingSimilarityEvaluator.py:196: ConstantInputWarning: An input array is constant; the correlation coefficient is not defined.\n",
      "  eval_spearman_manhattan, _ = spearmanr(labels, manhattan_distances)\n",
      "/Users/michael/Documents/School/Year5/COS802/Project/.venv/lib/python3.12/site-packages/sentence_transformers/evaluation/EmbeddingSimilarityEvaluator.py:198: ConstantInputWarning: An input array is constant; the correlation coefficient is not defined.\n",
      "  eval_pearson_euclidean, _ = pearsonr(labels, euclidean_distances)\n",
      "/Users/michael/Documents/School/Year5/COS802/Project/.venv/lib/python3.12/site-packages/sentence_transformers/evaluation/EmbeddingSimilarityEvaluator.py:199: ConstantInputWarning: An input array is constant; the correlation coefficient is not defined.\n",
      "  eval_spearman_euclidean, _ = spearmanr(labels, euclidean_distances)\n",
      "/Users/michael/Documents/School/Year5/COS802/Project/.venv/lib/python3.12/site-packages/sentence_transformers/evaluation/EmbeddingSimilarityEvaluator.py:201: ConstantInputWarning: An input array is constant; the correlation coefficient is not defined.\n",
      "  eval_pearson_dot, _ = pearsonr(labels, dot_products)\n",
      "/Users/michael/Documents/School/Year5/COS802/Project/.venv/lib/python3.12/site-packages/sentence_transformers/evaluation/EmbeddingSimilarityEvaluator.py:202: ConstantInputWarning: An input array is constant; the correlation coefficient is not defined.\n",
      "  eval_spearman_dot, _ = spearmanr(labels, dot_products)\n"
     ]
    },
    {
     "name": "stdout",
     "output_type": "stream",
     "text": [
      "{'pearson_cosine': np.float64(nan), 'spearman_cosine': nan, 'pearson_manhattan': np.float64(nan), 'spearman_manhattan': nan, 'pearson_euclidean': np.float64(nan), 'spearman_euclidean': nan, 'pearson_dot': np.float64(nan), 'spearman_dot': nan, 'pearson_max': np.float64(nan), 'spearman_max': nan}\n",
      "Testing lang: tel\n",
      "{'pearson_cosine': np.float64(0.5032735868086706), 'spearman_cosine': np.float64(0.5310174654957392), 'pearson_manhattan': np.float64(0.5699847684731315), 'spearman_manhattan': np.float64(0.5727854966783053), 'pearson_euclidean': np.float64(0.5679317011403691), 'spearman_euclidean': np.float64(0.5714472079904468), 'pearson_dot': np.float64(0.25157038141694216), 'spearman_dot': np.float64(0.28346108974913736), 'pearson_max': np.float64(0.5699847684731315), 'spearman_max': np.float64(0.5727854966783053)}\n"
     ]
    },
    {
     "data": {
      "text/plain": [
       "{'afr': {'afr': {'pearson_cosine': np.float64(0.7868652004012613),\n",
       "   'spearman_cosine': np.float64(0.7665480668308411),\n",
       "   'pearson_manhattan': np.float64(0.7270303139104044),\n",
       "   'spearman_manhattan': np.float64(0.7302457660956317),\n",
       "   'pearson_euclidean': np.float64(0.7290486888153145),\n",
       "   'spearman_euclidean': np.float64(0.7322007304964278),\n",
       "   'pearson_dot': np.float64(0.7057491205775741),\n",
       "   'spearman_dot': np.float64(0.7267207490243766),\n",
       "   'pearson_max': np.float64(0.7868652004012613),\n",
       "   'spearman_max': np.float64(0.7665480668308411)},\n",
       "  'arq': {'pearson_cosine': np.float64(0.3223381544647036),\n",
       "   'spearman_cosine': np.float64(0.30014309324638916),\n",
       "   'pearson_manhattan': np.float64(0.24536732832067465),\n",
       "   'spearman_manhattan': np.float64(0.2545254510603962),\n",
       "   'pearson_euclidean': np.float64(0.2400548119614196),\n",
       "   'spearman_euclidean': np.float64(0.25230850837501884),\n",
       "   'pearson_dot': np.float64(0.31411952702687823),\n",
       "   'spearman_dot': np.float64(0.24858982155885004),\n",
       "   'pearson_max': np.float64(0.3223381544647036),\n",
       "   'spearman_max': np.float64(0.30014309324638916)},\n",
       "  'amh': {'pearson_cosine': np.float64(0.5862213946755063),\n",
       "   'spearman_cosine': np.float64(0.6030105445642026),\n",
       "   'pearson_manhattan': np.float64(0.5899740795618461),\n",
       "   'spearman_manhattan': np.float64(0.5809346324121027),\n",
       "   'pearson_euclidean': np.float64(0.5917400308264993),\n",
       "   'spearman_euclidean': np.float64(0.584760195569557),\n",
       "   'pearson_dot': np.float64(0.3671860095440854),\n",
       "   'spearman_dot': np.float64(0.41484373269215313),\n",
       "   'pearson_max': np.float64(0.5917400308264993),\n",
       "   'spearman_max': np.float64(0.6030105445642026)},\n",
       "  'eng': {'pearson_cosine': np.float64(0.8267224989096121),\n",
       "   'spearman_cosine': np.float64(0.8174176119959763),\n",
       "   'pearson_manhattan': np.float64(0.808278074995683),\n",
       "   'spearman_manhattan': np.float64(0.8049598562783232),\n",
       "   'pearson_euclidean': np.float64(0.8098034209133541),\n",
       "   'spearman_euclidean': np.float64(0.8063344792265528),\n",
       "   'pearson_dot': np.float64(0.7763636568214197),\n",
       "   'spearman_dot': np.float64(0.783605284521986),\n",
       "   'pearson_max': np.float64(0.8267224989096121),\n",
       "   'spearman_max': np.float64(0.8174176119959763)},\n",
       "  'hau': {'pearson_cosine': np.float64(0.23661357007552114),\n",
       "   'spearman_cosine': np.float64(0.23289931467843958),\n",
       "   'pearson_manhattan': np.float64(0.2426093412412225),\n",
       "   'spearman_manhattan': np.float64(0.2286384172376639),\n",
       "   'pearson_euclidean': np.float64(0.24312031991941147),\n",
       "   'spearman_euclidean': np.float64(0.23027459330534075),\n",
       "   'pearson_dot': np.float64(0.18111588781828608),\n",
       "   'spearman_dot': np.float64(0.14828124573435286),\n",
       "   'pearson_max': np.float64(0.24312031991941147),\n",
       "   'spearman_max': np.float64(0.23289931467843958)},\n",
       "  'ind': {'pearson_cosine': np.float64(0.40693942280378287),\n",
       "   'spearman_cosine': np.float64(0.4170552673154732),\n",
       "   'pearson_manhattan': np.float64(0.43906475073250256),\n",
       "   'spearman_manhattan': np.float64(0.4075689439633511),\n",
       "   'pearson_euclidean': np.float64(0.4374165163484702),\n",
       "   'spearman_euclidean': np.float64(0.4098048439005513),\n",
       "   'pearson_dot': np.float64(0.2717899764342526),\n",
       "   'spearman_dot': np.float64(0.2868937705938954),\n",
       "   'pearson_max': np.float64(0.43906475073250256),\n",
       "   'spearman_max': np.float64(0.4170552673154732)},\n",
       "  'hin': {'pearson_cosine': np.float64(0.757715862809625),\n",
       "   'spearman_cosine': np.float64(0.7518233958737182),\n",
       "   'pearson_manhattan': np.float64(0.6920731383962601),\n",
       "   'spearman_manhattan': np.float64(0.6807151078516832),\n",
       "   'pearson_euclidean': np.float64(0.6928936136972245),\n",
       "   'spearman_euclidean': np.float64(0.6819484219306652),\n",
       "   'pearson_dot': np.float64(0.7189559439818399),\n",
       "   'spearman_dot': np.float64(0.7363274001691028),\n",
       "   'pearson_max': np.float64(0.757715862809625),\n",
       "   'spearman_max': np.float64(0.7518233958737182)},\n",
       "  'kin': {'pearson_cosine': np.float64(0.38909698139584925),\n",
       "   'spearman_cosine': np.float64(0.32921056327923454),\n",
       "   'pearson_manhattan': np.float64(0.3790964698093999),\n",
       "   'spearman_manhattan': np.float64(0.31769290775233844),\n",
       "   'pearson_euclidean': np.float64(0.3784259009024765),\n",
       "   'spearman_euclidean': np.float64(0.3185133630347852),\n",
       "   'pearson_dot': np.float64(0.22672371068457148),\n",
       "   'spearman_dot': np.float64(0.21829982667947617),\n",
       "   'pearson_max': np.float64(0.38909698139584925),\n",
       "   'spearman_max': np.float64(0.32921056327923454)},\n",
       "  'mar': {'pearson_cosine': np.float64(0.7878171246887706),\n",
       "   'spearman_cosine': np.float64(0.7612947119688814),\n",
       "   'pearson_manhattan': np.float64(0.7007412490416542),\n",
       "   'spearman_manhattan': np.float64(0.6789572046031934),\n",
       "   'pearson_euclidean': np.float64(0.7034206281872838),\n",
       "   'spearman_euclidean': np.float64(0.6818075348992478),\n",
       "   'pearson_dot': np.float64(0.7083188000419733),\n",
       "   'spearman_dot': np.float64(0.7309326951724034),\n",
       "   'pearson_max': np.float64(0.7878171246887706),\n",
       "   'spearman_max': np.float64(0.7612947119688814)},\n",
       "  'arb': {'pearson_cosine': np.float64(0.607640749080804),\n",
       "   'spearman_cosine': np.float64(0.6085807043631091),\n",
       "   'pearson_manhattan': np.float64(0.4957469930095472),\n",
       "   'spearman_manhattan': np.float64(0.49811759178446213),\n",
       "   'pearson_euclidean': np.float64(0.4957735222833516),\n",
       "   'spearman_euclidean': np.float64(0.49927823095189255),\n",
       "   'pearson_dot': np.float64(0.5796992432159365),\n",
       "   'spearman_dot': np.float64(0.599181786667622),\n",
       "   'pearson_max': np.float64(0.607640749080804),\n",
       "   'spearman_max': np.float64(0.6085807043631091)},\n",
       "  'ary': {'pearson_cosine': np.float64(0.381525490513077),\n",
       "   'spearman_cosine': np.float64(0.38838572472218413),\n",
       "   'pearson_manhattan': np.float64(0.318960240870548),\n",
       "   'spearman_manhattan': np.float64(0.31210813411772154),\n",
       "   'pearson_euclidean': np.float64(0.318730513493643),\n",
       "   'spearman_euclidean': np.float64(0.3128317336214066),\n",
       "   'pearson_dot': np.float64(0.30250483243237114),\n",
       "   'spearman_dot': np.float64(0.36338361091281063),\n",
       "   'pearson_max': np.float64(0.381525490513077),\n",
       "   'spearman_max': np.float64(0.38838572472218413)},\n",
       "  'pan': {'pearson_cosine': np.float64(-0.04677307274841574),\n",
       "   'spearman_cosine': np.float64(-0.07667886660803193),\n",
       "   'pearson_manhattan': np.float64(-0.13010298270578707),\n",
       "   'spearman_manhattan': np.float64(-0.1077714974157729),\n",
       "   'pearson_euclidean': np.float64(-0.131480644046371),\n",
       "   'spearman_euclidean': np.float64(-0.10872506216139412),\n",
       "   'pearson_dot': np.float64(0.05360450158591977),\n",
       "   'spearman_dot': np.float64(0.042437169404203175),\n",
       "   'pearson_max': np.float64(0.05360450158591977),\n",
       "   'spearman_max': np.float64(0.042437169404203175)},\n",
       "  'esp': {'pearson_cosine': np.float64(nan),\n",
       "   'spearman_cosine': nan,\n",
       "   'pearson_manhattan': np.float64(nan),\n",
       "   'spearman_manhattan': nan,\n",
       "   'pearson_euclidean': np.float64(nan),\n",
       "   'spearman_euclidean': nan,\n",
       "   'pearson_dot': np.float64(nan),\n",
       "   'spearman_dot': nan,\n",
       "   'pearson_max': np.float64(nan),\n",
       "   'spearman_max': nan},\n",
       "  'tel': {'pearson_cosine': np.float64(0.5032735868086706),\n",
       "   'spearman_cosine': np.float64(0.5310174654957392),\n",
       "   'pearson_manhattan': np.float64(0.5699847684731315),\n",
       "   'spearman_manhattan': np.float64(0.5727854966783053),\n",
       "   'pearson_euclidean': np.float64(0.5679317011403691),\n",
       "   'spearman_euclidean': np.float64(0.5714472079904468),\n",
       "   'pearson_dot': np.float64(0.25157038141694216),\n",
       "   'spearman_dot': np.float64(0.28346108974913736),\n",
       "   'pearson_max': np.float64(0.5699847684731315),\n",
       "   'spearman_max': np.float64(0.5727854966783053)}}}"
      ]
     },
     "execution_count": 15,
     "metadata": {},
     "output_type": "execute_result"
    }
   ],
   "source": [
    "loss_values = []\n",
    "results = {}\n",
    "\n",
    "model = get_model()\n",
    "results['base'] = evaluate(model)\n",
    "\n",
    "for lang in languages:\n",
    "    print(\"Training lang:\", lang)\n",
    "    loss_values.extend(train_model(model, train_datasets[lang], batch_size=32))\n",
    "\n",
    "    results[lang] = evaluate(model)"
   ]
  },
  {
   "cell_type": "markdown",
   "metadata": {},
   "source": [
    "# For Saving Results in Google Colab"
   ]
  },
  {
   "cell_type": "code",
   "execution_count": null,
   "metadata": {},
   "outputs": [],
   "source": [
    "from google.colab import drive\n",
    "import json\n",
    "\n",
    "drive.mount('/content/drive')\n",
    "\n",
    "with open('/content/drive/COS802/results.json') as file:\n",
    "    json.dump(file, results)\n",
    "with open('/content/drive/COS802/loss_values.json') as file:\n",
    "    json.dump(file, loss_values)"
   ]
  }
 ],
 "metadata": {
  "kernelspec": {
   "display_name": ".venv",
   "language": "python",
   "name": "python3"
  },
  "language_info": {
   "codemirror_mode": {
    "name": "ipython",
    "version": 3
   },
   "file_extension": ".py",
   "mimetype": "text/x-python",
   "name": "python",
   "nbconvert_exporter": "python",
   "pygments_lexer": "ipython3",
   "version": "3.12.7"
  }
 },
 "nbformat": 4,
 "nbformat_minor": 2
}
